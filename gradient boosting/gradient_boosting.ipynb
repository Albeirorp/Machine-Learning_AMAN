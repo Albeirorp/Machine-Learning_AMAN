{
  "nbformat": 4,
  "nbformat_minor": 0,
  "metadata": {
    "colab": {
      "provenance": [],
      "authorship_tag": "ABX9TyNXtmhuoxKsW0G1eeI/PnNt",
      "include_colab_link": true
    },
    "kernelspec": {
      "name": "python3",
      "display_name": "Python 3"
    },
    "language_info": {
      "name": "python"
    }
  },
  "cells": [
    {
      "cell_type": "markdown",
      "metadata": {
        "id": "view-in-github",
        "colab_type": "text"
      },
      "source": [
        "<a href=\"https://colab.research.google.com/github/veels3122/Machine-Learning_AMAN/blob/main/gradient_boosting.ipynb\" target=\"_parent\"><img src=\"https://colab.research.google.com/assets/colab-badge.svg\" alt=\"Open In Colab\"/></a>"
      ]
    },
    {
      "cell_type": "code",
      "execution_count": 5,
      "metadata": {
        "colab": {
          "base_uri": "https://localhost:8080/"
        },
        "id": "p901rZ6-6BOu",
        "outputId": "d1dcddac-6417-44b5-f052-b9b339db98e0"
      },
      "outputs": [
        {
          "output_type": "stream",
          "name": "stdout",
          "text": [
            "Precisión promedio en validación cruzada: 0.7621\n",
            "\n",
            "Informe de clasificación:\n",
            "              precision    recall  f1-score   support\n",
            "\n",
            "        Fair       0.90      0.91      0.91       335\n",
            "        Good       0.81      0.63      0.71      1004\n",
            "       Ideal       0.82      0.91      0.86      4292\n",
            "     Premium       0.70      0.86      0.77      2775\n",
            "   Very Good       0.66      0.41      0.51      2382\n",
            "\n",
            "    accuracy                           0.76     10788\n",
            "   macro avg       0.78      0.74      0.75     10788\n",
            "weighted avg       0.75      0.76      0.75     10788\n",
            "\n"
          ]
        }
      ],
      "source": [
        "import pandas as pd  # Para manipulación y análisis de datos\n",
        "import seaborn as sns  # Para visualización de datos (aunque no se usa en este caso)\n",
        "from sklearn.compose import ColumnTransformer  # Para aplicar transformaciones a diferentes columnas\n",
        "from sklearn.ensemble import GradientBoostingClassifier  # Algoritmo de clasificación\n",
        "from sklearn.metrics import classification_report  # Para generar un informe de clasificación\n",
        "from sklearn.model_selection import cross_val_score, train_test_split  # Para dividir datos y realizar validación cruzada\n",
        "from sklearn.pipeline import Pipeline  # Para crear un pipeline de procesamiento\n",
        "from sklearn.preprocessing import OneHotEncoder, StandardScaler  # Para preprocesamiento de datos\n",
        "\n",
        "# Cargar el conjunto de datos de diamantes\n",
        "diamonds = sns.load_dataset(\"diamonds\")\n",
        "\n",
        "# Separar los datos en características (X) y variable objetivo (y)\n",
        "X = diamonds.drop(\"cut\", axis=1)  # Características (todas las columnas excepto \"cut\")\n",
        "y = diamonds[\"cut\"]  # Variable objetivo (calidad del corte)\n",
        "\n",
        "# Dividir los datos en conjuntos de entrenamiento y prueba\n",
        "X_train, X_test, y_train, y_test = train_test_split(\n",
        "    X, y, test_size=0.2, random_state=42  # 80% para entrenamiento y 20% para prueba\n",
        "\n",
        ")  # 20% para prueba, semilla aleatoria para reproducibilidad\n",
        "\n",
        "# Identificar características categóricas y numéricas\n",
        "categorical_features = X.select_dtypes(include=[\"object\"]).columns.tolist()\n",
        "numerical_features = X.select_dtypes(include=[\"float64\", \"int64\"]).columns.tolist()\n",
        "\n",
        "\n",
        "# Crear un transformador para aplicar diferentes transformaciones a las columnas\n",
        "preprocessor = ColumnTransformer(\n",
        "    transformers=[\n",
        "        (\"cat\", OneHotEncoder(), categorical_features),  # Codificación one-hot para variables categóricas\n",
        "        (\"num\", StandardScaler(), numerical_features)  # Estandarización para variables numéricas\n",
        "    ]\n",
        ")\n",
        "\n",
        "# Crear un pipeline para combinar preprocesamiento y modelo\n",
        "pipeline = Pipeline([\n",
        "    (\"preprocessor\", preprocessor),\n",
        "    (\"classifier\", GradientBoostingClassifier(random_state=42))\n",
        "])\n",
        "\n",
        "# Realizar validación cruzada de 5 pliegues\n",
        "cv_scores = cross_val_score(pipeline, X_train, y_train, cv=5)\n",
        "\n",
        "# Ajustar el modelo a los datos de entrenamiento\n",
        "pipeline.fit(X_train, y_train)\n",
        "\n",
        "# Realizar predicciones en el conjunto de prueba\n",
        "y_pred = pipeline.predict(X_test)\n",
        "\n",
        "# Generar un informe de clasificación\n",
        "print(f\"Precisión promedio en validación cruzada: {cv_scores.mean():.4f}\")\n",
        "print(\"\\nInforme de clasificación:\")\n",
        "print(classification_report(y_test, y_pred))"
      ]
    }
  ]
}