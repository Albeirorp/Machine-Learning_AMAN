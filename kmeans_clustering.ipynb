{
  "nbformat": 4,
  "nbformat_minor": 0,
  "metadata": {
    "colab": {
      "private_outputs": true,
      "provenance": [],
      "authorship_tag": "ABX9TyMLp7hEzLB7Gak5z+LAPqNn",
      "include_colab_link": true
    },
    "kernelspec": {
      "name": "python3",
      "display_name": "Python 3"
    },
    "language_info": {
      "name": "python"
    }
  },
  "cells": [
    {
      "cell_type": "markdown",
      "metadata": {
        "id": "view-in-github",
        "colab_type": "text"
      },
      "source": [
        "<a href=\"https://colab.research.google.com/github/veels3122/Machine-Learning_AMAN/blob/main/kmeans_clustering.ipynb\" target=\"_parent\"><img src=\"https://colab.research.google.com/assets/colab-badge.svg\" alt=\"Open In Colab\"/></a>"
      ]
    },
    {
      "cell_type": "code",
      "execution_count": null,
      "metadata": {
        "id": "tqbJ5Bs-KM6E"
      },
      "outputs": [],
      "source": [
        "# Importar las librerías necesarias\n",
        "import numpy as np\n",
        "import pandas as pd\n",
        "import matplotlib.pyplot as plt\n",
        "from sklearn.datasets import load_iris\n",
        "from sklearn.cluster import KMeans\n",
        "from sklearn.decomposition import PCA\n",
        "\n",
        "# Cargar el conjunto de datos Iris\n",
        "iris = load_iris()\n",
        "data = iris.data  # Características\n",
        "feature_names = iris.feature_names\n",
        "target = iris.target  # Etiquetas verdaderas (no usadas en clustering)\n",
        "\n",
        "# Crear un DataFrame para facilitar el análisis\n",
        "df = pd.DataFrame(data, columns=feature_names)\n",
        "\n",
        "# Mostrar las primeras filas del conjunto de datos\n",
        "print(\"Primeras filas del conjunto de datos:\")\n",
        "print(df.head())\n",
        "\n",
        "# Análisis exploratorio: estadísticas básicas\n",
        "print(\"\\nEstadísticas descriptivas:\")\n",
        "print(df.describe())\n",
        "\n",
        "# Escoger un subconjunto de datos (opcional, en caso de tener un dataset grande)\n",
        "# Para Iris no es necesario ya que es pequeño.\n",
        "\n",
        "# Visualización preliminar de los datos con PCA (opcional para datos altos en dimensiones)\n",
        "pca = PCA(n_components=2)  # Reducir a 2 dimensiones\n",
        "data_reduced = pca.fit_transform(data)\n",
        "\n",
        "plt.scatter(data_reduced[:, 0], data_reduced[:, 1], c='gray', alpha=0.5)\n",
        "plt.title(\"Visualización inicial de los datos (PCA)\")\n",
        "plt.xlabel(\"PC1\")\n",
        "plt.ylabel(\"PC2\")\n",
        "plt.show()\n",
        "\n",
        "# Aplicar K-Means Clustering\n",
        "kmeans = KMeans(n_clusters=3, random_state=42)\n",
        "clusters = kmeans.fit_predict(data)\n",
        "\n",
        "# Agregar los clusters al DataFrame\n",
        "df['Cluster'] = clusters\n",
        "\n",
        "# Visualización de resultados: Gráfica con PCA\n",
        "plt.scatter(data_reduced[:, 0], data_reduced[:, 1], c=clusters, cmap='viridis', alpha=0.7)\n",
        "centroids = pca.transform(kmeans.cluster_centers_)  # Transformar centroides a PCA\n",
        "plt.scatter(centroids[:, 0], centroids[:, 1], c='red', marker='x', s=200, label='Centroides')\n",
        "plt.title(\"Resultados de K-Means Clustering\")\n",
        "plt.xlabel(\"PC1\")\n",
        "plt.ylabel(\"PC2\")\n",
        "plt.legend()\n",
        "plt.show()\n",
        "\n",
        "# Interpretación de los clusters\n",
        "print(\"\\nCluster Centers (en características originales):\")\n",
        "print(pd.DataFrame(kmeans.cluster_centers_, columns=feature_names))\n",
        "print(\"\\nDistribución de puntos por cluster:\")\n",
        "print(df['Cluster'].value_counts())"
      ]
    }
  ]
}